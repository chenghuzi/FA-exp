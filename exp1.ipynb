{
 "cells": [
  {
   "cell_type": "markdown",
   "id": "animated-format",
   "metadata": {},
   "source": [
    "# Feedback alignment is not approximating gradient in DNNs"
   ]
  },
  {
   "cell_type": "code",
   "execution_count": 7,
   "id": "choice-naples",
   "metadata": {},
   "outputs": [],
   "source": [
    "%%capture\n",
    "%load_ext autoreload\n",
    "%autoreload 2"
   ]
  },
  {
   "cell_type": "code",
   "execution_count": 8,
   "id": "vietnamese-sandwich",
   "metadata": {},
   "outputs": [],
   "source": [
    "import torch\n",
    "import torch.nn as nn\n",
    "import numpy as np\n",
    "import matplotlib.pyplot as plt\n",
    "import torchvision\n",
    "\n",
    "from models import FAConvNet, FANet\n",
    "from utils import errorfill\n"
   ]
  },
  {
   "cell_type": "code",
   "execution_count": null,
   "id": "3f3ba36f",
   "metadata": {},
   "outputs": [],
   "source": []
  },
  {
   "cell_type": "code",
   "execution_count": 15,
   "id": "ac403506",
   "metadata": {},
   "outputs": [],
   "source": [
    "\n",
    "class GaussianXYDataset(torch.utils.data.Dataset):\n",
    "    def __init__(self, xs, ys) -> None:\n",
    "        assert len(xs)==len(ys)\n",
    "        super().__init__()\n",
    "        self.xs = torch.from_numpy(xs).type(torch.FloatTensor)\n",
    "        self.ys = torch.from_numpy(ys).type(torch.FloatTensor)\n",
    "    def __len__(self,):\n",
    "        return len(self.xs)\n",
    "    def __getitem__(self, idx):\n",
    "        return self.xs[idx], self.ys[idx]\n",
    "\n",
    "batch_size = 256\n",
    "n_batch = 100\n",
    "dim_x = 12\n",
    "xs = np.random.normal(0, 1, (n_batch*batch_size, dim_x))\n",
    "ys = np.random.normal(0, 1, (n_batch*batch_size))\n",
    "\n",
    "dataset = GaussianXYDataset(xs, ys)\n"
   ]
  },
  {
   "cell_type": "code",
   "execution_count": 12,
   "id": "ab9875f1",
   "metadata": {},
   "outputs": [
    {
     "data": {
      "text/plain": [
       "(25600, 12)"
      ]
     },
     "execution_count": 12,
     "metadata": {},
     "output_type": "execute_result"
    }
   ],
   "source": [
    "xs.shape"
   ]
  },
  {
   "cell_type": "code",
   "execution_count": null,
   "id": "7fbf96ef",
   "metadata": {},
   "outputs": [],
   "source": []
  }
 ],
 "metadata": {
  "kernelspec": {
   "display_name": "Python 3.8.5 ('base')",
   "language": "python",
   "name": "python3"
  },
  "language_info": {
   "codemirror_mode": {
    "name": "ipython",
    "version": 3
   },
   "file_extension": ".py",
   "mimetype": "text/x-python",
   "name": "python",
   "nbconvert_exporter": "python",
   "pygments_lexer": "ipython3",
   "version": "3.8.5"
  },
  "vscode": {
   "interpreter": {
    "hash": "1d2a981df97e50a76806a963fe316fda1c1ff003ede9faf386c5ac67467f12cd"
   }
  }
 },
 "nbformat": 4,
 "nbformat_minor": 5
}
